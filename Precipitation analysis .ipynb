{
    "cells": [
        {
            "cell_type": "markdown",
            "metadata": {},
            "source": "# Description\n## Test dataset with Watson"
        },
        {
            "cell_type": "code",
            "execution_count": 1,
            "metadata": {},
            "outputs": [
                {
                    "name": "stdout",
                    "output_type": "stream",
                    "text": "+-----------+---------+------------+-----------+------------+---------------+----------+------+-----+------+-----------+-----------+----------+--------+--------+-----------+-----+\n|       make|fuel.type|num.of.doors| body.style|drive.wheels|engine.location|wheel.base|length|width|height|curb.weight|engine.size|horsepower|peak.rpm|city.mpg|highway.mpg|price|\n+-----------+---------+------------+-----------+------------+---------------+----------+------+-----+------+-----------+-----------+----------+--------+--------+-----------+-----+\n|alfa-romero|      gas|         two|convertible|         rwd|          front|      88.6| 168.8| 64.1|  48.8|       2548|        130|       111|    5000|      21|         27|13495|\n|alfa-romero|      gas|         two|convertible|         rwd|          front|      88.6| 168.8| 64.1|  48.8|       2548|        130|       111|    5000|      21|         27|16500|\n|alfa-romero|      gas|         two|  hatchback|         rwd|          front|      94.5| 171.2| 65.5|  52.4|       2823|        152|       154|    5000|      19|         26|16500|\n|       audi|      gas|        four|      sedan|         fwd|          front|      99.8| 176.6| 66.2|  54.3|       2337|        109|       102|    5500|      24|         30|13950|\n|       audi|      gas|        four|      sedan|         4wd|          front|      99.4| 176.6| 66.4|  54.3|       2824|        136|       115|    5500|      18|         22|17450|\n+-----------+---------+------------+-----------+------------+---------------+----------+------+-----+------+-----------+-----------+----------+--------+--------+-----------+-----+\nonly showing top 5 rows\n\n"
                },
                {
                    "data": {
                        "text/plain": "configurationName = os_378255d2308d4389b9bed1044ee41ef5_configs\ncos = com.ibm.ibmos2spark.CloudObjectStorage@9c9b5d8b\nspark = org.apache.spark.sql.SparkSession@967d6135\ndfData1 = [make: string, fuel.type: string ... 15 more fields]\n"
                    },
                    "metadata": {},
                    "output_type": "display_data"
                },
                {
                    "data": {
                        "text/plain": "getCredentials: ()scala.collection.mutable.HashMap[String,String]\n"
                    },
                    "metadata": {},
                    "output_type": "display_data"
                },
                {
                    "data": {
                        "text/plain": "[make: string, fuel.type: string ... 15 more fields]"
                    },
                    "execution_count": 1,
                    "metadata": {},
                    "output_type": "execute_result"
                }
            ],
            "source": "// The code was removed by Watson Studio for sharing."
        },
        {
            "cell_type": "code",
            "execution_count": null,
            "metadata": {},
            "outputs": [],
            "source": ""
        }
    ],
    "metadata": {
        "kernelspec": {
            "display_name": "Scala 2.12 with Spark",
            "language": "scala",
            "name": "scala"
        },
        "language_info": {
            "codemirror_mode": "text/x-scala",
            "file_extension": ".scala",
            "mimetype": "text/x-scala",
            "name": "scala",
            "pygments_lexer": "scala",
            "version": "2.12.12"
        }
    },
    "nbformat": 4,
    "nbformat_minor": 1
}